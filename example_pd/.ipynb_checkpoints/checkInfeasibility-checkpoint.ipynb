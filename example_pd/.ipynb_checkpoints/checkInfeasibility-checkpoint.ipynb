{
 "cells": [
  {
   "cell_type": "code",
   "execution_count": 1,
   "metadata": {},
   "outputs": [],
   "source": [
    "import gurobipy as gp"
   ]
  },
  {
   "cell_type": "code",
   "execution_count": 2,
   "metadata": {},
   "outputs": [
    {
     "name": "stdout",
     "output_type": "stream",
     "text": [
      "Using license file /home/leon/gurobi.lic\n",
      "Read LP format model from file FBATest.lp\n",
      "Reading time = 0.00 seconds\n",
      ": 224 rows, 220 columns, 776 nonzeros\n",
      "Gurobi Optimizer version 9.0.3 build v9.0.3rc0 (linux64)\n",
      "Optimize a model with 224 rows, 220 columns and 776 nonzeros\n",
      "Model fingerprint: 0xa8c1a66e\n",
      "Model has 2 quadratic constraints\n",
      "Variable types: 216 continuous, 4 integer (4 binary)\n",
      "Coefficient statistics:\n",
      "  Matrix range     [5e-01, 1e+03]\n",
      "  QMatrix range    [1e+00, 1e+00]\n",
      "  QLMatrix range   [1e+00, 1e+01]\n",
      "  Objective range  [1e+00, 1e+00]\n",
      "  Bounds range     [1e+00, 1e+01]\n",
      "  RHS range        [1e+00, 1e+03]\n",
      "Presolve removed 92 rows and 118 columns\n",
      "Presolve time: 0.00s\n",
      "\n",
      "Explored 0 nodes (0 simplex iterations) in 0.01 seconds\n",
      "Thread count was 1 (of 8 available processors)\n",
      "\n",
      "Solution count 0\n",
      "No other solutions better than -1e+100\n",
      "\n",
      "Model is infeasible\n",
      "Best objective -, best bound -, gap -\n",
      "\n",
      "Computing Irreducible Inconsistent Subsystem (IIS)...\n",
      "\n",
      "      Constraints           Bounds       Runtime\n",
      "     Min       Max       Min      Max\n",
      "------------------------------------------------\n",
      "        0      206         0      300         0s\n",
      "        4        4         3        3         0s\n",
      "\n",
      "IIS computed: 4 constraints, 3 bounds\n",
      "IIS runtime: 0.02 seconds\n"
     ]
    }
   ],
   "source": [
    "# find where are infeasible to NECom with JointFBA solution\n",
    "model=gp.read('FBATest.lp')\n",
    "model.optimize()\n",
    "model.computeIIS()"
   ]
  },
  {
   "cell_type": "code",
   "execution_count": 3,
   "metadata": {},
   "outputs": [
    {
     "name": "stdout",
     "output_type": "stream",
     "text": [
      "\n",
      "Constraints:\n",
      "V-V_ut+V_ex=0_EX_B_2_sp1_lb\n",
      "Xn*V_ut-ub<=0_EX_B_2_sp1_ub\n",
      "v_ut=max(0,v_oth)_1_EX_B_2_sp1_ub\n",
      "v_ut=max(0,v_oth)_2_EX_B_2_sp1_ub\n",
      "\n",
      "Bounds:\n",
      "Upper bound: v_1_EX_B_2_sp1\n",
      "Upper bound: v_1_EX_B_2_sp2\n",
      "Lower bound: vex_EX_B_2_sp1\n"
     ]
    }
   ],
   "source": [
    "# print minimal set of infeasible constraints and bounds\n",
    "print('\\nConstraints vialated:')\n",
    "for c in model.getConstrs():\n",
    "    if c.IISConstr:\n",
    "        print('%s' % c.constrName)\n",
    "print('\\nBounds breached:')\n",
    "for v in model.getVars():\n",
    "    if v.IISLB > 0 :\n",
    "        print('Lower bound: %s' % v.VarName)\n",
    "    elif v.IISUB > 0:\n",
    "        print('Upper bound: %s' % v.VarName)"
   ]
  },
  {
   "cell_type": "code",
   "execution_count": 4,
   "metadata": {},
   "outputs": [
    {
     "name": "stdout",
     "output_type": "stream",
     "text": [
      "Read LP format model from file OptComTest.lp\n",
      "Reading time = 0.00 seconds\n",
      ": 224 rows, 220 columns, 776 nonzeros\n",
      "Gurobi Optimizer version 9.0.3 build v9.0.3rc0 (linux64)\n",
      "Optimize a model with 224 rows, 220 columns and 776 nonzeros\n",
      "Model fingerprint: 0x2487aaf4\n",
      "Model has 2 quadratic constraints\n",
      "Variable types: 216 continuous, 4 integer (4 binary)\n",
      "Coefficient statistics:\n",
      "  Matrix range     [5e-01, 1e+03]\n",
      "  QMatrix range    [1e+00, 1e+00]\n",
      "  QLMatrix range   [1e+00, 1e+01]\n",
      "  Objective range  [1e+00, 1e+00]\n",
      "  Bounds range     [1e+00, 1e+03]\n",
      "  RHS range        [1e+00, 1e+03]\n",
      "Presolve removed 218 rows and 214 columns\n",
      "Presolve time: 0.00s\n",
      "\n",
      "Explored 0 nodes (0 simplex iterations) in 0.01 seconds\n",
      "Thread count was 1 (of 8 available processors)\n",
      "\n",
      "Solution count 0\n",
      "No other solutions better than -1e+100\n",
      "\n",
      "Model is infeasible\n",
      "Best objective -, best bound -, gap -\n",
      "\n",
      "Computing Irreducible Inconsistent Subsystem (IIS)...\n",
      "\n",
      "      Constraints           Bounds       Runtime\n",
      "     Min       Max       Min      Max\n",
      "------------------------------------------------\n",
      "        0      206         0      300         0s\n",
      "       18       18        26       26         0s\n",
      "\n",
      "IIS computed: 18 constraints, 26 bounds\n",
      "IIS runtime: 0.12 seconds\n"
     ]
    }
   ],
   "source": [
    "# load lp problem generated by example.m and do computation\n",
    "model=gp.read('OptComTest.lp')\n",
    "model.optimize()\n",
    "model.computeIIS()"
   ]
  },
  {
   "cell_type": "code",
   "execution_count": 5,
   "metadata": {},
   "outputs": [
    {
     "name": "stdout",
     "output_type": "stream",
     "text": [
      "\n",
      "Constraints:\n",
      "Xn*W+psi=0_EX_A_2_sp1_lb\n",
      "S*lambda_1+mu_UB-mu_LB+psi=cT_S_sp1_lb\n",
      "S*lambda_1+mu_UB-mu_LB+psi=cT_A_sp1_lb\n",
      "S*lambda_1+mu_UB-mu_LB+psi=cR_1_sp1_lb\n",
      "S*lambda_1+mu_UB-mu_LB+psi=cR_2_sp1_lb\n",
      "S*lambda_1+mu_UB-mu_LB+psi=cR_3_sp1_lb\n",
      "S*lambda_1+mu_UB-mu_LB+psi=cOBJ_sp1_lb\n",
      "S*lambda_1+mu_UB-mu_LB+psi=cBiomass_sp1_lb\n",
      "S*lambda_1+mu_UB-mu_LB+psi=cEX_B_2_sp1_lb\n",
      "v_ut=max(0,v_oth)_3_EX_A_2_sp1_lb\n",
      "S*lambda_1+mu_UB-mu_LB+psi=cEX_S_sp1_ub\n",
      "S*lambda_1+mu_UB-mu_LB+psi=cT_B_sp1_ub\n",
      "S*lambda_1+mu_UB-mu_LB+psi=cEX_A_2_sp1_ub\n",
      "v_ut=max(0,v_oth)_1_EX_A_2_sp1_ub\n",
      "v_ut=max(0,v_oth)_1_EX_B_2_sp1_ub\n",
      "v_ut=max(0,v_oth)_2_EX_A_2_sp1_ub\n",
      "v_ut=max(0,v_oth)_2_EX_B_2_sp1_ub\n",
      "\n",
      "Bounds:\n",
      "Upper bound: v_1_Biomass_sp1\n",
      "Lower bound: v_1_EX_A_2_sp2\n",
      "Upper bound: v_1_EX_B_2_sp2\n",
      "Upper bound: psi_EX_B_2_sp1\n",
      "Lower bound: mu_UB_EX_S_sp1\n",
      "Lower bound: mu_LB_T_S_sp1\n",
      "Upper bound: mu_UB_T_S_sp1\n",
      "Lower bound: mu_LB_T_A_sp1\n",
      "Upper bound: mu_UB_T_A_sp1\n",
      "Upper bound: mu_LB_T_B_sp1\n",
      "Lower bound: mu_UB_T_B_sp1\n",
      "Lower bound: mu_LB_R_1_sp1\n",
      "Upper bound: mu_UB_R_1_sp1\n",
      "Lower bound: mu_LB_R_2_sp1\n",
      "Upper bound: mu_UB_R_2_sp1\n",
      "Lower bound: mu_LB_R_3_sp1\n",
      "Upper bound: mu_UB_R_3_sp1\n",
      "Lower bound: mu_LB_OBJ_sp1\n",
      "Upper bound: mu_UB_OBJ_sp1\n",
      "Lower bound: mu_LB_Biomass_sp1\n",
      "Upper bound: mu_UB_Biomass_sp1\n",
      "Lower bound: mu_UB_EX_A_2_sp1\n",
      "Lower bound: mu_LB_EX_B_2_sp1\n",
      "Upper bound: mu_UB_EX_B_2_sp1\n",
      "Lower bound: ub_EX_B_2_sp1\n"
     ]
    }
   ],
   "source": [
    "# print minimal set of infeasible constraints and bounds\n",
    "print('\\nConstraints vialated:')\n",
    "for c in model.getConstrs():\n",
    "    if c.IISConstr:\n",
    "        print('%s' % c.constrName)\n",
    "print('\\nBounds breached:')\n",
    "for v in model.getVars():\n",
    "    if v.IISLB > 0 :\n",
    "        print('Lower bound: %s' % v.VarName)\n",
    "    elif v.IISUB > 0:\n",
    "        print('Upper bound: %s' % v.VarName)"
   ]
  },
  {
   "cell_type": "code",
   "execution_count": null,
   "metadata": {},
   "outputs": [],
   "source": []
  }
 ],
 "metadata": {
  "kernelspec": {
   "display_name": "Python 3",
   "language": "python",
   "name": "python3"
  },
  "language_info": {
   "codemirror_mode": {
    "name": "ipython",
    "version": 3
   },
   "file_extension": ".py",
   "mimetype": "text/x-python",
   "name": "python",
   "nbconvert_exporter": "python",
   "pygments_lexer": "ipython3",
   "version": "3.6.5"
  }
 },
 "nbformat": 4,
 "nbformat_minor": 2
}
